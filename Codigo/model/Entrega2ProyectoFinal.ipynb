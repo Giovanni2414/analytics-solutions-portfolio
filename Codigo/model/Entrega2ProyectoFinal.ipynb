{
 "cells": [
  {
   "cell_type": "markdown",
   "metadata": {},
   "source": [
    "# Predicción de compras realizadas"
   ]
  },
  {
   "cell_type": "markdown",
   "metadata": {},
   "source": [
    "### Objetivo"
   ]
  },
  {
   "cell_type": "markdown",
   "metadata": {},
   "source": [
    "En el siguiente proyecto trabajaremos en torno a desarrollo de nuestro primer objetivo del problema de analitica al cual nos enfrentamos, este es el de: *Elaborar un modelo de regresión para predecir cuántas compras realizará un cliente por medio del catálogo, página web y tienda física* Para esto, implementaremos un algoritmo de regresion lineal, el cual es el algoritmo de machine learning supervizado que mas se adapta al problema del objetivo actual.  \n",
    "\n",
    "\n",
    "Para el desarrollo primero importaremos las librerias que implementaremos junto con el set de datos que se utilizara\n",
    " "
   ]
  },
  {
   "cell_type": "code",
   "execution_count": null,
   "metadata": {},
   "outputs": [],
   "source": [
    "#Librerías de interés.\n",
    "import pandas as pd                  #Importamos la librería pandas. Nos va a servir para leer y manipular conjuntos de datos tabulares.\n",
    "import matplotlib.pyplot as plt      #Importamos pyplot de librería matplotlib. Lo vamos a utilizar para graficar.\n",
    "import seaborn as sns                #Importamos la librería Seaborn. La vamos a utilizar para graficar.\n",
    "import numpy as np                   #Importamos la librería numpy para manipular arreglos. \n",
    "\n",
    "\n",
    "from sklearn.model_selection import train_test_split #Útil para dividir los conjuntos de datos. \n",
    "from sklearn.preprocessing import MinMaxScaler       #Útil para escalar los atributos de entrada.\n",
    "from sklearn import metrics\n",
    "\n",
    "from copy import deepcopy                            #Permite hacer copias profundas. "
   ]
  },
  {
   "cell_type": "code",
   "execution_count": null,
   "metadata": {},
   "outputs": [],
   "source": [
    "df = pd.read_csv(\"marketing_\")"
   ]
  },
  {
   "cell_type": "code",
   "execution_count": 7,
   "metadata": {},
   "outputs": [
    {
     "data": {
      "text/plain": [
       "range(0, 2)"
      ]
     },
     "execution_count": 7,
     "metadata": {},
     "output_type": "execute_result"
    }
   ],
   "source": []
  }
 ],
 "metadata": {
  "kernelspec": {
   "display_name": "Python 3.10.8 64-bit (microsoft store)",
   "language": "python",
   "name": "python3"
  },
  "language_info": {
   "codemirror_mode": {
    "name": "ipython",
    "version": 3
   },
   "file_extension": ".py",
   "mimetype": "text/x-python",
   "name": "python",
   "nbconvert_exporter": "python",
   "pygments_lexer": "ipython3",
   "version": "3.10.8"
  },
  "orig_nbformat": 4,
  "vscode": {
   "interpreter": {
    "hash": "2181a5c81a3bf3701267f4866afb91bd8a8ead41fdce6d50b13f7efd7a4ab6d9"
   }
  }
 },
 "nbformat": 4,
 "nbformat_minor": 2
}
