{
 "cells": [
  {
   "cell_type": "markdown",
   "id": "95cde5d4",
   "metadata": {},
   "source": [
    "# 1. Primer vistazo de la información"
   ]
  },
  {
   "cell_type": "code",
   "execution_count": null,
   "id": "080d50dd",
   "metadata": {},
   "outputs": [],
   "source": []
  },
  {
   "cell_type": "markdown",
   "id": "da24af11",
   "metadata": {},
   "source": [
    "# 2. Generar gráficas"
   ]
  },
  {
   "cell_type": "code",
   "execution_count": null,
   "id": "2749a993",
   "metadata": {},
   "outputs": [],
   "source": []
  },
  {
   "cell_type": "markdown",
   "id": "a59a528e",
   "metadata": {},
   "source": [
    "# 3. Búsqueda de datos duplicados y outliers"
   ]
  },
  {
   "cell_type": "code",
   "execution_count": null,
   "id": "9a7236d0",
   "metadata": {},
   "outputs": [],
   "source": []
  },
  {
   "cell_type": "markdown",
   "id": "6a700c46",
   "metadata": {},
   "source": [
    "# 4. Análisis de datos faltantes "
   ]
  },
  {
   "cell_type": "code",
   "execution_count": null,
   "id": "7c27ce51",
   "metadata": {},
   "outputs": [],
   "source": []
  },
  {
   "cell_type": "markdown",
   "id": "4b220592",
   "metadata": {},
   "source": [
    "# 5. Corregir errores estructurales"
   ]
  },
  {
   "cell_type": "code",
   "execution_count": null,
   "id": "615a33c2",
   "metadata": {},
   "outputs": [],
   "source": []
  },
  {
   "cell_type": "markdown",
   "id": "ee516a8c",
   "metadata": {},
   "source": [
    "# 6. Reporte de cambios "
   ]
  },
  {
   "cell_type": "code",
   "execution_count": null,
   "id": "e1e1e414",
   "metadata": {},
   "outputs": [],
   "source": []
  },
  {
   "cell_type": "markdown",
   "id": "0109b584",
   "metadata": {},
   "source": [
    "# 7. Repetir fase 1"
   ]
  },
  {
   "cell_type": "code",
   "execution_count": null,
   "id": "4c65b02a",
   "metadata": {},
   "outputs": [],
   "source": []
  }
 ],
 "metadata": {
  "kernelspec": {
   "display_name": "Python 3",
   "language": "python",
   "name": "python3"
  },
  "language_info": {
   "codemirror_mode": {
    "name": "ipython",
    "version": 3
   },
   "file_extension": ".py",
   "mimetype": "text/x-python",
   "name": "python",
   "nbconvert_exporter": "python",
   "pygments_lexer": "ipython3",
   "version": "3.8.8"
  }
 },
 "nbformat": 4,
 "nbformat_minor": 5
}
